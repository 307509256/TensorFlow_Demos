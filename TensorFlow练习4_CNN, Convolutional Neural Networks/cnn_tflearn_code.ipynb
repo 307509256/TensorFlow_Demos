{
 "cells": [
  {
   "cell_type": "code",
   "execution_count": 4,
   "metadata": {
    "collapsed": false
   },
   "outputs": [],
   "source": [
    "import tflearn\n",
    "from tflearn.layers.conv import conv_2d, max_pool_2d\n",
    "from tflearn.layers.core import input_data, dropout, fully_connected\n",
    "from tflearn.layers.estimator import regression"
   ]
  },
  {
   "cell_type": "code",
   "execution_count": 6,
   "metadata": {
    "collapsed": false
   },
   "outputs": [
    {
     "name": "stdout",
     "output_type": "stream",
     "text": [
      "Extracting mnist/train-images-idx3-ubyte.gz\n"
     ]
    },
    {
     "name": "stderr",
     "output_type": "stream",
     "text": [
      "/home/dogless/anaconda3/lib/python3.5/gzip.py:274: VisibleDeprecationWarning: converting an array with ndim > 0 to an index will result in an error in the future\n",
      "  return self._buffer.read(size)\n",
      "/home/dogless/anaconda3/lib/python3.5/site-packages/tflearn/datasets/mnist.py:52: VisibleDeprecationWarning: converting an array with ndim > 0 to an index will result in an error in the future\n",
      "  data = data.reshape(num_images, rows, cols, 1)\n"
     ]
    },
    {
     "name": "stdout",
     "output_type": "stream",
     "text": [
      "Extracting mnist/train-labels-idx1-ubyte.gz\n",
      "Extracting mnist/t10k-images-idx3-ubyte.gz\n",
      "Extracting mnist/t10k-labels-idx1-ubyte.gz\n"
     ]
    }
   ],
   "source": [
    "train_x, train_y, test_x, test_y = tflearn.datasets.mnist.load_data(one_hot=True)"
   ]
  },
  {
   "cell_type": "code",
   "execution_count": 7,
   "metadata": {
    "collapsed": true
   },
   "outputs": [],
   "source": [
    "train_x = train_x.reshape(-1,28,28,1)\n",
    "test_x = test_x.reshape(-1,28,28,1)"
   ]
  },
  {
   "cell_type": "code",
   "execution_count": 8,
   "metadata": {
    "collapsed": true
   },
   "outputs": [],
   "source": [
    "conv_net = input_data(shape=[None,28,28,1], name='input')\n",
    "conv_net = conv_2d(conv_net, 32, 2, activation='relu')\n",
    "conv_net = max_pool_2d(conv_net ,2)\n",
    "conv_net = conv_2d(conv_net, 64, 2, activation='relu')\n",
    "conv_net = max_pool_2d(conv_net ,2)\n",
    "conv_net = fully_connected(conv_net, 1024, activation='relu')\n",
    "conv_net = dropout(conv_net, 0.8)\n",
    "conv_net = fully_connected(conv_net, 10, activation='softmax')\n",
    "conv_net = regression(conv_net, optimizer='adam', loss='categorical_crossentropy', name='output')\n",
    "model = tflearn.DNN(conv_net)"
   ]
  },
  {
   "cell_type": "code",
   "execution_count": 10,
   "metadata": {
    "collapsed": false
   },
   "outputs": [
    {
     "name": "stdout",
     "output_type": "stream",
     "text": [
      "Training Step: 1932  | total loss: \u001b[1m\u001b[32m0.03382\u001b[0m\u001b[0m\n",
      "| Adam | epoch: 001 | loss: 0.03382 - acc: 0.9925 | val_loss: 0.04609 - val_acc: 0.9860 -- iter: 55000/55000\n",
      "Training Step: 1932  | total loss: \u001b[1m\u001b[32m0.03382\u001b[0m\u001b[0m\n",
      "| Adam | epoch: 001 | loss: 0.03382 - acc: 0.9925 | val_loss: 0.04609 - val_acc: 0.9860 -- iter: 55000/55000\n",
      "--\n"
     ]
    }
   ],
   "source": [
    "model.fit({'input':train_x}, {'output':train_y}, n_epoch=1, \n",
    "          validation_set=({'input':test_x}, {'output':test_y}), \n",
    "          snapshot_step=300, show_metric=True, run_id='mnist')"
   ]
  },
  {
   "cell_type": "code",
   "execution_count": 11,
   "metadata": {
    "collapsed": false
   },
   "outputs": [
    {
     "data": {
      "text/plain": [
       "\"\\nmodel.load('mnist.model')   # 加载模型\\nmodel.predict([test_x[1]])  # 预测\\n\""
      ]
     },
     "execution_count": 11,
     "metadata": {},
     "output_type": "execute_result"
    }
   ],
   "source": [
    "model.save('mnist.model')   # 保存模型\n",
    " \n",
    "\"\"\"\n",
    "model.load('mnist.model')   # 加载模型\n",
    "model.predict([test_x[1]])  # 预测\n",
    "\"\"\""
   ]
  },
  {
   "cell_type": "code",
   "execution_count": null,
   "metadata": {
    "collapsed": true
   },
   "outputs": [],
   "source": []
  }
 ],
 "metadata": {
  "kernelspec": {
   "display_name": "Python [Root]",
   "language": "python",
   "name": "Python [Root]"
  },
  "language_info": {
   "codemirror_mode": {
    "name": "ipython",
    "version": 3
   },
   "file_extension": ".py",
   "mimetype": "text/x-python",
   "name": "python",
   "nbconvert_exporter": "python",
   "pygments_lexer": "ipython3",
   "version": "3.5.2"
  }
 },
 "nbformat": 4,
 "nbformat_minor": 0
}
