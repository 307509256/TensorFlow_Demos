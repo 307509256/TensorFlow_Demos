{
 "cells": [
  {
   "cell_type": "code",
   "execution_count": 1,
   "metadata": {
    "collapsed": false
   },
   "outputs": [],
   "source": [
    "import numpy as np\n",
    "import tensorflow as tf"
   ]
  },
  {
   "cell_type": "code",
   "execution_count": 2,
   "metadata": {
    "collapsed": false
   },
   "outputs": [
    {
     "name": "stdout",
     "output_type": "stream",
     "text": [
      "Extracting /tmp/train-images-idx3-ubyte.gz\n",
      "Extracting /tmp/train-labels-idx1-ubyte.gz\n",
      "Extracting /tmp/t10k-images-idx3-ubyte.gz\n",
      "Extracting /tmp/t10k-labels-idx1-ubyte.gz\n"
     ]
    }
   ],
   "source": [
    "# 下载mnist数据集\n",
    "from tensorflow.examples.tutorials.mnist import input_data\n",
    "mnist = input_data.read_data_sets('/tmp/', one_hot=True)"
   ]
  },
  {
   "cell_type": "code",
   "execution_count": 3,
   "metadata": {
    "collapsed": false
   },
   "outputs": [
    {
     "data": {
      "text/plain": [
       "array([[ 0.,  0.,  0., ...,  1.,  0.,  0.],\n",
       "       [ 0.,  0.,  0., ...,  0.,  0.,  0.],\n",
       "       [ 0.,  0.,  0., ...,  0.,  0.,  0.],\n",
       "       ..., \n",
       "       [ 0.,  0.,  0., ...,  0.,  0.,  0.],\n",
       "       [ 0.,  0.,  0., ...,  0.,  0.,  0.],\n",
       "       [ 0.,  0.,  0., ...,  0.,  1.,  0.]])"
      ]
     },
     "execution_count": 3,
     "metadata": {},
     "output_type": "execute_result"
    }
   ],
   "source": [
    "mnist.train.labels"
   ]
  },
  {
   "cell_type": "code",
   "execution_count": 4,
   "metadata": {
    "collapsed": true
   },
   "outputs": [],
   "source": [
    "#一张图片是28*28,FNN是一次性把数据输入到网络，RNN把它分成块\n",
    "chunk_size = 28\n",
    "chunk_n = 28"
   ]
  },
  {
   "cell_type": "code",
   "execution_count": 5,
   "metadata": {
    "collapsed": true
   },
   "outputs": [],
   "source": [
    "rnn_size = 64\n",
    "n_output_layer = 10   # 输出层\n",
    "X = tf.placeholder('float', [None, chunk_n, chunk_size]) \n",
    "Y = tf.placeholder('float')\n",
    "def recurrent_neural_network(data):\n",
    "    layer = {'w_':tf.Variable(tf.random_normal([rnn_size, n_output_layer])), \n",
    "             'b_':tf.Variable(tf.random_normal([n_output_layer]))}\n",
    "    lstm_cell = tf.nn.rnn_cell.BasicLSTMCell(rnn_size)\n",
    "    data = tf.transpose(data, [1,0,2])   #trans axis\n",
    "    data = tf.reshape(data, [-1, chunk_size])\n",
    "    data = tf.split(0, chunk_n, data)\n",
    "    outputs, status = tf.nn.rnn(lstm_cell, data, dtype=tf.float32)\n",
    "    ouput = tf.add(tf.matmul(outputs[-1], layer['w_']), layer['b_'])\n",
    "    return ouput"
   ]
  },
  {
   "cell_type": "code",
   "execution_count": 6,
   "metadata": {
    "collapsed": true
   },
   "outputs": [],
   "source": [
    "# 每次使用100条数据进行训练\n",
    "batch_size = 100"
   ]
  },
  {
   "cell_type": "code",
   "execution_count": null,
   "metadata": {
    "collapsed": false
   },
   "outputs": [
    {
     "name": "stdout",
     "output_type": "stream",
     "text": [
      "0  :  315.371199543\n",
      "1  :  406.46265539\n"
     ]
    }
   ],
   "source": [
    "# 使用数据训练神经网络\n",
    "def train_neural_network(X, Y):\n",
    "    predict = recurrent_neural_network(X)\n",
    "    cost_func = tf.reduce_mean(tf.nn.softmax_cross_entropy_with_logits(predict, Y))\n",
    "    optimizer = tf.train.AdamOptimizer().minimize(cost_func) \n",
    "    epochs = 13\n",
    "    with tf.Session() as session:\n",
    "        session.run(tf.initialize_all_variables())\n",
    "        epoch_loss = 0\n",
    "        for epoch in range(epochs):\n",
    "            for i in range( int(mnist.train.num_examples/batch_size) ):\n",
    "                x, y = mnist.train.next_batch(batch_size)\n",
    "                x = x.reshape([batch_size, chunk_n, chunk_size])\n",
    "                _, c = session.run([optimizer, cost_func], feed_dict={X:x,Y:y})\n",
    "                epoch_loss += c\n",
    "            print(epoch, ' : ', epoch_loss)\n",
    " \n",
    "        correct = tf.equal(tf.argmax(predict,1), tf.argmax(Y,1))\n",
    "        accuracy = tf.reduce_mean(tf.cast(correct,'float'))\n",
    "        print('准确率: ', accuracy.eval({X:mnist.test.images.reshape(-1, chunk_n, chunk_size), Y:mnist.test.labels}))\n",
    "train_neural_network(X,Y)"
   ]
  },
  {
   "cell_type": "code",
   "execution_count": null,
   "metadata": {
    "collapsed": true
   },
   "outputs": [],
   "source": []
  },
  {
   "cell_type": "code",
   "execution_count": null,
   "metadata": {
    "collapsed": true
   },
   "outputs": [],
   "source": []
  },
  {
   "cell_type": "code",
   "execution_count": null,
   "metadata": {
    "collapsed": true
   },
   "outputs": [],
   "source": []
  }
 ],
 "metadata": {
  "kernelspec": {
   "display_name": "Python [Root]",
   "language": "python",
   "name": "Python [Root]"
  },
  "language_info": {
   "codemirror_mode": {
    "name": "ipython",
    "version": 3
   },
   "file_extension": ".py",
   "mimetype": "text/x-python",
   "name": "python",
   "nbconvert_exporter": "python",
   "pygments_lexer": "ipython3",
   "version": "3.5.2"
  }
 },
 "nbformat": 4,
 "nbformat_minor": 0
}
